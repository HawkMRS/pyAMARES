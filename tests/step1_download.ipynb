{
 "cells": [
  {
   "cell_type": "code",
   "execution_count": 1,
   "metadata": {},
   "outputs": [],
   "source": [
    "# Download files from Github directly\n",
    "import requests\n",
    "\n",
    "\n",
    "def download_file(url, local_filename=None):\n",
    "    \"\"\"\n",
    "    Downloads a file from the specified URL and saves it locally.\n",
    "\n",
    "    Args:\n",
    "    url (str): The URL to the file to be downloaded.\n",
    "    local_filename (str): The local path where the file should be saved.\n",
    "\n",
    "    Returns:\n",
    "    bool: True if the file was downloaded successfully, False otherwise.\n",
    "    \"\"\"\n",
    "    try:\n",
    "        response = requests.get(url)\n",
    "        if response.status_code == 200:\n",
    "            if local_filename is None:\n",
    "                local_filename = url.split(\"/\")[-1]\n",
    "            with open(local_filename, \"wb\") as f:\n",
    "                f.write(response.content)\n",
    "            print(f\"File downloaded successfully to {local_filename}!\")\n",
    "            return True\n",
    "        else:\n",
    "            print(\"Failed to retrieve the file. Status code:\", response.status_code)\n",
    "            return False\n",
    "    except Exception as e:\n",
    "        print(f\"An error occurred: {e}\")\n",
    "        return False"
   ]
  },
  {
   "cell_type": "code",
   "execution_count": 2,
   "metadata": {},
   "outputs": [
    {
     "name": "stdout",
     "output_type": "stream",
     "text": [
      "File downloaded successfully to example_human_brain_31P_7T.csv!\n"
     ]
    },
    {
     "data": {
      "text/plain": [
       "True"
      ]
     },
     "execution_count": 2,
     "metadata": {},
     "output_type": "execute_result"
    }
   ],
   "source": [
    "download_file(\n",
    "    \"https://raw.githubusercontent.com/HawkMRS/pyAMARES/main/docs/source/notebooks/attachment/example_human_brain_31P_7T.csv\"\n",
    ")"
   ]
  },
  {
   "cell_type": "code",
   "execution_count": 3,
   "metadata": {},
   "outputs": [
    {
     "name": "stdout",
     "output_type": "stream",
     "text": [
      "File downloaded successfully to fid.txt!\n"
     ]
    },
    {
     "data": {
      "text/plain": [
       "True"
      ]
     },
     "execution_count": 3,
     "metadata": {},
     "output_type": "execute_result"
    }
   ],
   "source": [
    "download_file(\n",
    "    \"https://raw.githubusercontent.com/HawkMRS/pyAMARES/refs/heads/main/docs/source/notebooks/attachment/fid.txt\"\n",
    ")"
   ]
  },
  {
   "cell_type": "code",
   "execution_count": 4,
   "metadata": {},
   "outputs": [
    {
     "name": "stdout",
     "output_type": "stream",
     "text": [
      "File downloaded successfully to singlet.csv!\n"
     ]
    },
    {
     "data": {
      "text/plain": [
       "True"
      ]
     },
     "execution_count": 4,
     "metadata": {},
     "output_type": "execute_result"
    }
   ],
   "source": [
    "download_file(\n",
    "    \"https://raw.githubusercontent.com/HawkMRS/pyAMARES/refs/heads/main/docs/source/notebooks/attachment/singlet.csv\"\n",
    ")"
   ]
  },
  {
   "cell_type": "code",
   "execution_count": 5,
   "metadata": {},
   "outputs": [
    {
     "name": "stdout",
     "output_type": "stream",
     "text": [
      "File downloaded successfully to Table1.csv!\n"
     ]
    },
    {
     "data": {
      "text/plain": [
       "True"
      ]
     },
     "execution_count": 5,
     "metadata": {},
     "output_type": "execute_result"
    }
   ],
   "source": [
    "download_file(\n",
    "    \"https://raw.githubusercontent.com/HawkMRS/pyAMARES/refs/heads/main/docs/source/notebooks/attachment/Table1.csv\"\n",
    ")"
   ]
  },
  {
   "cell_type": "code",
   "execution_count": 6,
   "metadata": {},
   "outputs": [
    {
     "name": "stdout",
     "output_type": "stream",
     "text": [
      "File downloaded successfully to a_voxel_Xe.txt!\n"
     ]
    },
    {
     "data": {
      "text/plain": [
       "True"
      ]
     },
     "execution_count": 6,
     "metadata": {},
     "output_type": "execute_result"
    }
   ],
   "source": [
    "download_file(\n",
    "    \"https://raw.githubusercontent.com/HawkMRS/pyAMARES/refs/heads/main/docs/source/notebooks/attachment/a_voxel_Xe.txt\"\n",
    ")"
   ]
  },
  {
   "cell_type": "code",
   "execution_count": 10,
   "metadata": {},
   "outputs": [
    {
     "name": "stdout",
     "output_type": "stream",
     "text": [
      "File downloaded successfully to FigS2A.csv!\n"
     ]
    },
    {
     "data": {
      "text/plain": [
       "True"
      ]
     },
     "execution_count": 10,
     "metadata": {},
     "output_type": "execute_result"
    }
   ],
   "source": [
    "download_file(\n",
    "    \"https://raw.githubusercontent.com/HawkMRS/pyAMARES/refs/heads/main/docs/source/notebooks/attachment/FigS2A.csv\"\n",
    ")"
   ]
  },
  {
   "cell_type": "code",
   "execution_count": 11,
   "metadata": {},
   "outputs": [
    {
     "name": "stdout",
     "output_type": "stream",
     "text": [
      "File downloaded successfully to singlet.csv!\n"
     ]
    },
    {
     "data": {
      "text/plain": [
       "True"
      ]
     },
     "execution_count": 11,
     "metadata": {},
     "output_type": "execute_result"
    }
   ],
   "source": [
    "download_file(\n",
    "    \"https://raw.githubusercontent.com/HawkMRS/pyAMARES/refs/heads/main/docs/source/notebooks/attachment/singlet.csv\"\n",
    ")"
   ]
  },
  {
   "cell_type": "code",
   "execution_count": null,
   "metadata": {},
   "outputs": [],
   "source": []
  }
 ],
 "metadata": {
  "kernelspec": {
   "display_name": "mrs_3.12",
   "language": "python",
   "name": "mrs"
  },
  "language_info": {
   "codemirror_mode": {
    "name": "ipython",
    "version": 3
   },
   "file_extension": ".py",
   "mimetype": "text/x-python",
   "name": "python",
   "nbconvert_exporter": "python",
   "pygments_lexer": "ipython3",
   "version": "3.12.9"
  }
 },
 "nbformat": 4,
 "nbformat_minor": 2
}
